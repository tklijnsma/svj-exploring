{
 "cells": [
  {
   "cell_type": "code",
   "execution_count": 83,
   "metadata": {},
   "outputs": [],
   "source": [
    "import imp\n",
    "import uproot\n",
    "import coffea\n",
    "from coffea import hist\n",
    "import numpy as np\n",
    "import datasets\n",
    "import seutils\n",
    "import math\n",
    "\n",
    "%matplotlib inline\n",
    "import matplotlib.pyplot as plt"
   ]
  },
  {
   "cell_type": "code",
   "execution_count": 6,
   "metadata": {},
   "outputs": [
    {
     "name": "stderr",
     "output_type": "stream",
     "text": [
      "\u001b[33m   INFO:2020-06-12 11:19:04:datasets:9\u001b[0m Logger datasets is already defined\n",
      "\u001b[33m   INFO:2020-06-12 11:19:04:datasets:42\u001b[0m Using tqdm notebook\n"
     ]
    },
    {
     "data": {
      "text/plain": [
       "<module 'datasets' from '/uscms_data/d3/klijnsma/semivis/flatntuplestudies/v0/datasets.py'>"
      ]
     },
     "execution_count": 6,
     "metadata": {},
     "output_type": "execute_result"
    }
   ],
   "source": [
    "imp.reload(datasets)"
   ]
  },
  {
   "cell_type": "markdown",
   "metadata": {},
   "source": [
    "## Initialize the datasets"
   ]
  },
  {
   "cell_type": "markdown",
   "metadata": {},
   "source": [
    "Cache some events. We can't store all events in memory, but for testing it's convenient to have at least some events easy to access. From here on out, if use_cache == True, we're using this limited set of events for the sake of developing faster."
   ]
  },
  {
   "cell_type": "code",
   "execution_count": 7,
   "metadata": {},
   "outputs": [
    {
     "data": {
      "application/vnd.jupyter.widget-view+json": {
       "model_id": "cdab178ecccb405bb0e4a09b4421c31e",
       "version_major": 2,
       "version_minor": 0
      },
      "text/plain": [
       "HBox(children=(FloatProgress(value=0.0, description='files in Autumn18.TTJets_Sing', max=1.0, style=ProgressSt…"
      ]
     },
     "metadata": {},
     "output_type": "display_data"
    },
    {
     "name": "stderr",
     "output_type": "stream",
     "text": [
      "\u001b[33m   INFO:2020-06-12 11:19:07:datasets:173\u001b[0m Cached ~3.2 Mb (4946 entries, 5 branches)\n"
     ]
    },
    {
     "name": "stdout",
     "output_type": "stream",
     "text": [
      "\n"
     ]
    },
    {
     "data": {
      "application/vnd.jupyter.widget-view+json": {
       "model_id": "da8877e95ee545e79993d51f26f539f2",
       "version_major": 2,
       "version_minor": 0
      },
      "text/plain": [
       "HBox(children=(FloatProgress(value=0.0, description='files in Autumn18.TTJets_Sing', max=1.0, style=ProgressSt…"
      ]
     },
     "metadata": {},
     "output_type": "display_data"
    },
    {
     "name": "stderr",
     "output_type": "stream",
     "text": [
      "\u001b[33m   INFO:2020-06-12 11:19:08:datasets:173\u001b[0m Cached ~3.1 Mb (4826 entries, 5 branches)\n"
     ]
    },
    {
     "name": "stdout",
     "output_type": "stream",
     "text": [
      "\n"
     ]
    },
    {
     "data": {
      "application/vnd.jupyter.widget-view+json": {
       "model_id": "1b5be7d891eb4503b7629c10a68de226",
       "version_major": 2,
       "version_minor": 0
      },
      "text/plain": [
       "HBox(children=(FloatProgress(value=0.0, description='files in Autumn18.TTJets_DiLe', max=1.0, style=ProgressSt…"
      ]
     },
     "metadata": {},
     "output_type": "display_data"
    },
    {
     "name": "stderr",
     "output_type": "stream",
     "text": [
      "\u001b[33m   INFO:2020-06-12 11:19:10:datasets:173\u001b[0m Cached ~15.2 Mb (23932 entries, 5 branches)\n"
     ]
    },
    {
     "name": "stdout",
     "output_type": "stream",
     "text": [
      "\n"
     ]
    },
    {
     "data": {
      "application/vnd.jupyter.widget-view+json": {
       "model_id": "be436cc5a36745d08c115f4a12f4691f",
       "version_major": 2,
       "version_minor": 0
      },
      "text/plain": [
       "HBox(children=(FloatProgress(value=0.0, description='files in Autumn18.TTJets_HT-6', max=1.0, style=ProgressSt…"
      ]
     },
     "metadata": {},
     "output_type": "display_data"
    },
    {
     "name": "stderr",
     "output_type": "stream",
     "text": [
      "\u001b[33m   INFO:2020-06-12 11:19:14:datasets:173\u001b[0m Cached ~10.2 Mb (13177 entries, 5 branches)\n"
     ]
    },
    {
     "name": "stdout",
     "output_type": "stream",
     "text": [
      "\n"
     ]
    },
    {
     "data": {
      "application/vnd.jupyter.widget-view+json": {
       "model_id": "17fc86a2d9734a058bb5b48712d40ccc",
       "version_major": 2,
       "version_minor": 0
      },
      "text/plain": [
       "HBox(children=(FloatProgress(value=0.0, description='files in Autumn18.TTJets_HT-8', max=1.0, style=ProgressSt…"
      ]
     },
     "metadata": {},
     "output_type": "display_data"
    },
    {
     "name": "stderr",
     "output_type": "stream",
     "text": [
      "\u001b[33m   INFO:2020-06-12 11:19:15:datasets:173\u001b[0m Cached ~8.5 Mb (10883 entries, 5 branches)\n"
     ]
    },
    {
     "name": "stdout",
     "output_type": "stream",
     "text": [
      "\n"
     ]
    },
    {
     "data": {
      "application/vnd.jupyter.widget-view+json": {
       "model_id": "551f8581bbc44a739143d2470a8568e5",
       "version_major": 2,
       "version_minor": 0
      },
      "text/plain": [
       "HBox(children=(FloatProgress(value=0.0, description='files in Autumn18.TTJets_HT-1', max=1.0, style=ProgressSt…"
      ]
     },
     "metadata": {},
     "output_type": "display_data"
    },
    {
     "name": "stderr",
     "output_type": "stream",
     "text": [
      "\u001b[33m   INFO:2020-06-12 11:19:15:datasets:173\u001b[0m Cached ~1.3 Mb (1597 entries, 5 branches)\n"
     ]
    },
    {
     "name": "stdout",
     "output_type": "stream",
     "text": [
      "\n"
     ]
    },
    {
     "data": {
      "application/vnd.jupyter.widget-view+json": {
       "model_id": "7a50192b80724b42b9dd2c2c75532956",
       "version_major": 2,
       "version_minor": 0
      },
      "text/plain": [
       "HBox(children=(FloatProgress(value=0.0, description='files in Autumn18.TTJets_HT-2', max=1.0, style=ProgressSt…"
      ]
     },
     "metadata": {},
     "output_type": "display_data"
    },
    {
     "name": "stderr",
     "output_type": "stream",
     "text": [
      "\u001b[33m   INFO:2020-06-12 11:19:24:datasets:173\u001b[0m Cached ~33.5 Mb (42699 entries, 5 branches)\n"
     ]
    },
    {
     "name": "stdout",
     "output_type": "stream",
     "text": [
      "\n"
     ]
    },
    {
     "data": {
      "application/vnd.jupyter.widget-view+json": {
       "model_id": "eabdf55b19c34c0c81b520c4efaaa6cf",
       "version_major": 2,
       "version_minor": 0
      },
      "text/plain": [
       "HBox(children=(FloatProgress(value=0.0, description='files in Autumn18.QCD_Pt_80to', max=1.0, style=ProgressSt…"
      ]
     },
     "metadata": {},
     "output_type": "display_data"
    },
    {
     "name": "stderr",
     "output_type": "stream",
     "text": [
      "\u001b[33m   INFO:2020-06-12 11:19:29:datasets:173\u001b[0m Cached ~48.4 Mb (80000 entries, 5 branches)\n"
     ]
    },
    {
     "name": "stdout",
     "output_type": "stream",
     "text": [
      "\n"
     ]
    },
    {
     "data": {
      "application/vnd.jupyter.widget-view+json": {
       "model_id": "2422e4b56fd641079e2a4e8170152e30",
       "version_major": 2,
       "version_minor": 0
      },
      "text/plain": [
       "HBox(children=(FloatProgress(value=0.0, description='files in Autumn18.QCD_Pt_120t', max=1.0, style=ProgressSt…"
      ]
     },
     "metadata": {},
     "output_type": "display_data"
    },
    {
     "name": "stderr",
     "output_type": "stream",
     "text": [
      "\u001b[33m   INFO:2020-06-12 11:19:38:datasets:173\u001b[0m Cached ~51.3 Mb (80000 entries, 5 branches)\n"
     ]
    },
    {
     "name": "stdout",
     "output_type": "stream",
     "text": [
      "\n"
     ]
    },
    {
     "data": {
      "application/vnd.jupyter.widget-view+json": {
       "model_id": "c14716c4157f459e9c46b245f0da6e11",
       "version_major": 2,
       "version_minor": 0
      },
      "text/plain": [
       "HBox(children=(FloatProgress(value=0.0, description='files in Autumn18.QCD_Pt_170t', max=1.0, style=ProgressSt…"
      ]
     },
     "metadata": {},
     "output_type": "display_data"
    },
    {
     "name": "stderr",
     "output_type": "stream",
     "text": [
      "\u001b[33m   INFO:2020-06-12 11:19:45:datasets:173\u001b[0m Cached ~43.5 Mb (60000 entries, 5 branches)\n"
     ]
    },
    {
     "name": "stdout",
     "output_type": "stream",
     "text": [
      "\n"
     ]
    },
    {
     "data": {
      "application/vnd.jupyter.widget-view+json": {
       "model_id": "d7ea2e38b81c4d9ba0087925286f5124",
       "version_major": 2,
       "version_minor": 0
      },
      "text/plain": [
       "HBox(children=(FloatProgress(value=0.0, description='files in Autumn18.QCD_Pt_300t', max=1.0, style=ProgressSt…"
      ]
     },
     "metadata": {},
     "output_type": "display_data"
    },
    {
     "name": "stderr",
     "output_type": "stream",
     "text": [
      "\u001b[33m   INFO:2020-06-12 11:19:58:datasets:173\u001b[0m Cached ~59.7 Mb (80000 entries, 5 branches)\n"
     ]
    },
    {
     "name": "stdout",
     "output_type": "stream",
     "text": [
      "\n"
     ]
    },
    {
     "data": {
      "application/vnd.jupyter.widget-view+json": {
       "model_id": "0d984f5e656b4cd7a9a5f96db1dea2bd",
       "version_major": 2,
       "version_minor": 0
      },
      "text/plain": [
       "HBox(children=(FloatProgress(value=0.0, description='files in Autumn18.QCD_Pt_470t', max=1.0, style=ProgressSt…"
      ]
     },
     "metadata": {},
     "output_type": "display_data"
    },
    {
     "name": "stderr",
     "output_type": "stream",
     "text": [
      "\u001b[33m   INFO:2020-06-12 11:20:09:datasets:173\u001b[0m Cached ~60.0 Mb (80000 entries, 5 branches)\n"
     ]
    },
    {
     "name": "stdout",
     "output_type": "stream",
     "text": [
      "\n"
     ]
    },
    {
     "data": {
      "application/vnd.jupyter.widget-view+json": {
       "model_id": "cdd1f3c89b3e4875b1f3fa55dcac3eed",
       "version_major": 2,
       "version_minor": 0
      },
      "text/plain": [
       "HBox(children=(FloatProgress(value=0.0, description='files in Autumn18.QCD_Pt_600t', max=1.0, style=ProgressSt…"
      ]
     },
     "metadata": {},
     "output_type": "display_data"
    },
    {
     "name": "stderr",
     "output_type": "stream",
     "text": [
      "\u001b[33m   INFO:2020-06-12 11:20:12:datasets:173\u001b[0m Cached ~13.5 Mb (18000 entries, 5 branches)\n"
     ]
    },
    {
     "name": "stdout",
     "output_type": "stream",
     "text": [
      "\n"
     ]
    },
    {
     "data": {
      "application/vnd.jupyter.widget-view+json": {
       "model_id": "44d9a4f6327d4b10a660d7d5ac07610c",
       "version_major": 2,
       "version_minor": 0
      },
      "text/plain": [
       "HBox(children=(FloatProgress(value=0.0, description='files in Autumn18.QCD_Pt_800t', max=1.0, style=ProgressSt…"
      ]
     },
     "metadata": {},
     "output_type": "display_data"
    },
    {
     "name": "stderr",
     "output_type": "stream",
     "text": [
      "\u001b[33m   INFO:2020-06-12 11:20:17:datasets:173\u001b[0m Cached ~22.5 Mb (30000 entries, 5 branches)\n"
     ]
    },
    {
     "name": "stdout",
     "output_type": "stream",
     "text": [
      "\n"
     ]
    },
    {
     "data": {
      "application/vnd.jupyter.widget-view+json": {
       "model_id": "6274bda715cf464f8674b03957ae32b9",
       "version_major": 2,
       "version_minor": 0
      },
      "text/plain": [
       "HBox(children=(FloatProgress(value=0.0, description='files in Autumn18.QCD_Pt_1000', max=1.0, style=ProgressSt…"
      ]
     },
     "metadata": {},
     "output_type": "display_data"
    },
    {
     "name": "stderr",
     "output_type": "stream",
     "text": [
      "\u001b[33m   INFO:2020-06-12 11:20:26:datasets:173\u001b[0m Cached ~31.6 Mb (42000 entries, 5 branches)\n"
     ]
    },
    {
     "name": "stdout",
     "output_type": "stream",
     "text": [
      "\n"
     ]
    },
    {
     "data": {
      "application/vnd.jupyter.widget-view+json": {
       "model_id": "330ed04a91af4298b5cb39d4fdf4d1aa",
       "version_major": 2,
       "version_minor": 0
      },
      "text/plain": [
       "HBox(children=(FloatProgress(value=0.0, description='files in Autumn18.QCD_Pt_1400', max=1.0, style=ProgressSt…"
      ]
     },
     "metadata": {},
     "output_type": "display_data"
    },
    {
     "name": "stderr",
     "output_type": "stream",
     "text": [
      "\u001b[33m   INFO:2020-06-12 11:20:38:datasets:173\u001b[0m Cached ~31.6 Mb (42000 entries, 5 branches)\n"
     ]
    },
    {
     "name": "stdout",
     "output_type": "stream",
     "text": [
      "\n"
     ]
    },
    {
     "data": {
      "application/vnd.jupyter.widget-view+json": {
       "model_id": "68b5fdb3d5fe4e458cf3d99d3dca607f",
       "version_major": 2,
       "version_minor": 0
      },
      "text/plain": [
       "HBox(children=(FloatProgress(value=0.0, description='files in Autumn18.QCD_Pt_1800', max=1.0, style=ProgressSt…"
      ]
     },
     "metadata": {},
     "output_type": "display_data"
    },
    {
     "name": "stderr",
     "output_type": "stream",
     "text": [
      "\u001b[33m   INFO:2020-06-12 11:20:45:datasets:173\u001b[0m Cached ~32.2 Mb (42940 entries, 5 branches)\n"
     ]
    },
    {
     "name": "stdout",
     "output_type": "stream",
     "text": [
      "\n"
     ]
    },
    {
     "data": {
      "application/vnd.jupyter.widget-view+json": {
       "model_id": "1b5ff1fccf384889abdb47ce9bb3b8a1",
       "version_major": 2,
       "version_minor": 0
      },
      "text/plain": [
       "HBox(children=(FloatProgress(value=0.0, description='files in Autumn18.QCD_Pt_2400', max=1.0, style=ProgressSt…"
      ]
     },
     "metadata": {},
     "output_type": "display_data"
    },
    {
     "name": "stderr",
     "output_type": "stream",
     "text": [
      "\u001b[33m   INFO:2020-06-12 11:20:48:datasets:173\u001b[0m Cached ~12.0 Mb (16000 entries, 5 branches)\n"
     ]
    },
    {
     "name": "stdout",
     "output_type": "stream",
     "text": [
      "\n"
     ]
    },
    {
     "data": {
      "application/vnd.jupyter.widget-view+json": {
       "model_id": "6ea66b91e1be4420a98091c4c55b0626",
       "version_major": 2,
       "version_minor": 0
      },
      "text/plain": [
       "HBox(children=(FloatProgress(value=0.0, description='files in Autumn18.QCD_Pt_3200', max=1.0, style=ProgressSt…"
      ]
     },
     "metadata": {},
     "output_type": "display_data"
    },
    {
     "name": "stderr",
     "output_type": "stream",
     "text": [
      "\u001b[33m   INFO:2020-06-12 11:20:51:datasets:173\u001b[0m Cached ~17.9 Mb (24000 entries, 5 branches)\n"
     ]
    },
    {
     "name": "stdout",
     "output_type": "stream",
     "text": [
      "\n"
     ]
    },
    {
     "data": {
      "application/vnd.jupyter.widget-view+json": {
       "model_id": "28db35e9e3924fb98dd217a3861d29f5",
       "version_major": 2,
       "version_minor": 0
      },
      "text/plain": [
       "HBox(children=(FloatProgress(value=0.0, description='files in Autumn18.WJetsToLNu_', max=2.0, style=ProgressSt…"
      ]
     },
     "metadata": {},
     "output_type": "display_data"
    },
    {
     "name": "stderr",
     "output_type": "stream",
     "text": [
      "\u001b[33m   INFO:2020-06-12 11:21:11:datasets:173\u001b[0m Cached ~94.1 Mb (156056 entries, 5 branches)\n"
     ]
    },
    {
     "name": "stdout",
     "output_type": "stream",
     "text": [
      "\n"
     ]
    },
    {
     "data": {
      "application/vnd.jupyter.widget-view+json": {
       "model_id": "4474d7e2728c40e68d212b958cb26dcb",
       "version_major": 2,
       "version_minor": 0
      },
      "text/plain": [
       "HBox(children=(FloatProgress(value=0.0, description='files in Autumn18.WJetsToLNu_', max=2.0, style=ProgressSt…"
      ]
     },
     "metadata": {},
     "output_type": "display_data"
    },
    {
     "name": "stderr",
     "output_type": "stream",
     "text": [
      "\u001b[33m   INFO:2020-06-12 11:21:23:datasets:173\u001b[0m Cached ~62.8 Mb (103601 entries, 5 branches)\n"
     ]
    },
    {
     "name": "stdout",
     "output_type": "stream",
     "text": [
      "\n"
     ]
    },
    {
     "data": {
      "application/vnd.jupyter.widget-view+json": {
       "model_id": "50897549711e481594ffb1c76c8f99f2",
       "version_major": 2,
       "version_minor": 0
      },
      "text/plain": [
       "HBox(children=(FloatProgress(value=0.0, description='files in Autumn18.WJetsToLNu_', max=2.0, style=ProgressSt…"
      ]
     },
     "metadata": {},
     "output_type": "display_data"
    },
    {
     "name": "stderr",
     "output_type": "stream",
     "text": [
      "\u001b[33m   INFO:2020-06-12 11:21:36:datasets:173\u001b[0m Cached ~85.5 Mb (133144 entries, 5 branches)\n"
     ]
    },
    {
     "name": "stdout",
     "output_type": "stream",
     "text": [
      "\n"
     ]
    },
    {
     "data": {
      "application/vnd.jupyter.widget-view+json": {
       "model_id": "377e6d9b1d2f4e0a9aa4f9f858819ef1",
       "version_major": 2,
       "version_minor": 0
      },
      "text/plain": [
       "HBox(children=(FloatProgress(value=0.0, description='files in Autumn18.WJetsToLNu_', max=2.0, style=ProgressSt…"
      ]
     },
     "metadata": {},
     "output_type": "display_data"
    },
    {
     "name": "stderr",
     "output_type": "stream",
     "text": [
      "\u001b[33m   INFO:2020-06-12 11:21:39:datasets:173\u001b[0m Cached ~10.0 Mb (13883 entries, 5 branches)\n"
     ]
    },
    {
     "name": "stdout",
     "output_type": "stream",
     "text": [
      "\n"
     ]
    },
    {
     "data": {
      "application/vnd.jupyter.widget-view+json": {
       "model_id": "f8b236df2d3449769e9acd09afceeffc",
       "version_major": 2,
       "version_minor": 0
      },
      "text/plain": [
       "HBox(children=(FloatProgress(value=0.0, description='files in Autumn18.WJetsToLNu_', max=2.0, style=ProgressSt…"
      ]
     },
     "metadata": {},
     "output_type": "display_data"
    },
    {
     "name": "stderr",
     "output_type": "stream",
     "text": [
      "\u001b[33m   INFO:2020-06-12 11:21:40:datasets:173\u001b[0m Cached ~6.2 Mb (8295 entries, 5 branches)\n"
     ]
    },
    {
     "name": "stdout",
     "output_type": "stream",
     "text": [
      "\n"
     ]
    },
    {
     "data": {
      "application/vnd.jupyter.widget-view+json": {
       "model_id": "84d46bdf47884385a84311962cc24059",
       "version_major": 2,
       "version_minor": 0
      },
      "text/plain": [
       "HBox(children=(FloatProgress(value=0.0, description='files in Autumn18.WJetsToLNu_', max=2.0, style=ProgressSt…"
      ]
     },
     "metadata": {},
     "output_type": "display_data"
    },
    {
     "name": "stderr",
     "output_type": "stream",
     "text": [
      "\u001b[33m   INFO:2020-06-12 11:21:48:datasets:173\u001b[0m Cached ~26.4 Mb (34993 entries, 5 branches)\n"
     ]
    },
    {
     "name": "stdout",
     "output_type": "stream",
     "text": [
      "\n"
     ]
    },
    {
     "data": {
      "application/vnd.jupyter.widget-view+json": {
       "model_id": "1beba893623641d9b642f9ed21858bfd",
       "version_major": 2,
       "version_minor": 0
      },
      "text/plain": [
       "HBox(children=(FloatProgress(value=0.0, description='files in Autumn18.WJetsToLNu_', max=2.0, style=ProgressSt…"
      ]
     },
     "metadata": {},
     "output_type": "display_data"
    },
    {
     "name": "stderr",
     "output_type": "stream",
     "text": [
      "\u001b[33m   INFO:2020-06-12 11:21:52:datasets:173\u001b[0m Cached ~20.6 Mb (27195 entries, 5 branches)\n"
     ]
    },
    {
     "name": "stdout",
     "output_type": "stream",
     "text": [
      "\n"
     ]
    },
    {
     "data": {
      "application/vnd.jupyter.widget-view+json": {
       "model_id": "4f35a9b1891d411498b0cf6c3b1e652e",
       "version_major": 2,
       "version_minor": 0
      },
      "text/plain": [
       "HBox(children=(FloatProgress(value=0.0, description='files in Autumn18.WJetsToLNu_', max=2.0, style=ProgressSt…"
      ]
     },
     "metadata": {},
     "output_type": "display_data"
    },
    {
     "name": "stderr",
     "output_type": "stream",
     "text": [
      "\u001b[33m   INFO:2020-06-12 11:22:01:datasets:173\u001b[0m Cached ~41.2 Mb (54172 entries, 5 branches)\n"
     ]
    },
    {
     "name": "stdout",
     "output_type": "stream",
     "text": [
      "\n"
     ]
    },
    {
     "data": {
      "application/vnd.jupyter.widget-view+json": {
       "model_id": "abd9d6a1676342b9961d71524172361e",
       "version_major": 2,
       "version_minor": 0
      },
      "text/plain": [
       "HBox(children=(FloatProgress(value=0.0, description='files in Autumn18.ZJetsToNuNu', max=4.0, style=ProgressSt…"
      ]
     },
     "metadata": {},
     "output_type": "display_data"
    },
    {
     "name": "stderr",
     "output_type": "stream",
     "text": [
      "\u001b[33m   INFO:2020-06-12 11:22:23:datasets:173\u001b[0m Cached ~157.4 Mb (259978 entries, 5 branches)\n"
     ]
    },
    {
     "name": "stdout",
     "output_type": "stream",
     "text": [
      "\n"
     ]
    },
    {
     "data": {
      "application/vnd.jupyter.widget-view+json": {
       "model_id": "e794ee527a00498e8872c36c84a38182",
       "version_major": 2,
       "version_minor": 0
      },
      "text/plain": [
       "HBox(children=(FloatProgress(value=0.0, description='files in Autumn18.ZJetsToNuNu', max=4.0, style=ProgressSt…"
      ]
     },
     "metadata": {},
     "output_type": "display_data"
    },
    {
     "name": "stderr",
     "output_type": "stream",
     "text": [
      "\u001b[33m   INFO:2020-06-12 11:22:52:datasets:173\u001b[0m Cached ~192.1 Mb (302793 entries, 5 branches)\n"
     ]
    },
    {
     "name": "stdout",
     "output_type": "stream",
     "text": [
      "\n"
     ]
    },
    {
     "data": {
      "application/vnd.jupyter.widget-view+json": {
       "model_id": "7b7626e0f62741f1a5a4a89312b8f416",
       "version_major": 2,
       "version_minor": 0
      },
      "text/plain": [
       "HBox(children=(FloatProgress(value=1.0, bar_style='info', description='files in Autumn18.ZJetsToNuNu', max=1.0…"
      ]
     },
     "metadata": {},
     "output_type": "display_data"
    },
    {
     "name": "stderr",
     "output_type": "stream",
     "text": [
      "\u001b[33m   INFO:2020-06-12 11:22:52:datasets:173\u001b[0m Cached ~0.0 b (0 entries, 5 branches)\n"
     ]
    },
    {
     "name": "stdout",
     "output_type": "stream",
     "text": [
      "\n"
     ]
    },
    {
     "data": {
      "application/vnd.jupyter.widget-view+json": {
       "model_id": "037a58feed394cafbfd0c4c59e0fd258",
       "version_major": 2,
       "version_minor": 0
      },
      "text/plain": [
       "HBox(children=(FloatProgress(value=0.0, description='files in Autumn18.ZJetsToNuNu', max=4.0, style=ProgressSt…"
      ]
     },
     "metadata": {},
     "output_type": "display_data"
    },
    {
     "name": "stderr",
     "output_type": "stream",
     "text": [
      "\u001b[33m   INFO:2020-06-12 11:23:04:datasets:173\u001b[0m Cached ~68.8 Mb (93720 entries, 5 branches)\n"
     ]
    },
    {
     "name": "stdout",
     "output_type": "stream",
     "text": [
      "\n"
     ]
    },
    {
     "data": {
      "application/vnd.jupyter.widget-view+json": {
       "model_id": "a32a447c13b5478cabf77aa288862bb7",
       "version_major": 2,
       "version_minor": 0
      },
      "text/plain": [
       "HBox(children=(FloatProgress(value=0.0, description='files in Autumn18.ZJetsToNuNu', max=4.0, style=ProgressSt…"
      ]
     },
     "metadata": {},
     "output_type": "display_data"
    },
    {
     "name": "stderr",
     "output_type": "stream",
     "text": [
      "\u001b[33m   INFO:2020-06-12 11:23:12:datasets:173\u001b[0m Cached ~31.0 Mb (41600 entries, 5 branches)\n"
     ]
    },
    {
     "name": "stdout",
     "output_type": "stream",
     "text": [
      "\n"
     ]
    },
    {
     "data": {
      "application/vnd.jupyter.widget-view+json": {
       "model_id": "aa9fcf83b1bc45bd820517fd9db1dcd8",
       "version_major": 2,
       "version_minor": 0
      },
      "text/plain": [
       "HBox(children=(FloatProgress(value=0.0, description='files in Autumn18.ZJetsToNuNu', max=4.0, style=ProgressSt…"
      ]
     },
     "metadata": {},
     "output_type": "display_data"
    },
    {
     "name": "stderr",
     "output_type": "stream",
     "text": [
      "\u001b[33m   INFO:2020-06-12 11:23:19:datasets:173\u001b[0m Cached ~38.8 Mb (51548 entries, 5 branches)\n"
     ]
    },
    {
     "name": "stdout",
     "output_type": "stream",
     "text": [
      "\n"
     ]
    },
    {
     "data": {
      "application/vnd.jupyter.widget-view+json": {
       "model_id": "e1e8bcdae07c42f5904963965d19c267",
       "version_major": 2,
       "version_minor": 0
      },
      "text/plain": [
       "HBox(children=(FloatProgress(value=0.0, description='files in Autumn18.ZJetsToNuNu', max=4.0, style=ProgressSt…"
      ]
     },
     "metadata": {},
     "output_type": "display_data"
    },
    {
     "name": "stderr",
     "output_type": "stream",
     "text": [
      "\u001b[33m   INFO:2020-06-12 11:23:23:datasets:173\u001b[0m Cached ~13.5 Mb (17926 entries, 5 branches)\n"
     ]
    },
    {
     "name": "stdout",
     "output_type": "stream",
     "text": [
      "\n"
     ]
    }
   ],
   "source": [
    "ttjets, qcd, wjets, zjets = datasets.init_bkgs(\n",
    "    make_cache = True,\n",
    "    cache_branches = [b'JetsAK15', b'JetsAK15_softDropMass', b'TriggerPass', b'MET', b'METPhi']\n",
    "    )"
   ]
  },
  {
   "cell_type": "markdown",
   "metadata": {},
   "source": [
    "### Signal dataset"
   ]
  },
  {
   "cell_type": "code",
   "execution_count": 8,
   "metadata": {
    "scrolled": true
   },
   "outputs": [
    {
     "data": {
      "application/vnd.jupyter.widget-view+json": {
       "model_id": "2a6b88f087474d679992ad5cc598ee25",
       "version_major": 2,
       "version_minor": 0
      },
      "text/plain": [
       "HBox(children=(FloatProgress(value=0.0, description='files in mZ300', max=5.0, style=ProgressStyle(description…"
      ]
     },
     "metadata": {},
     "output_type": "display_data"
    },
    {
     "name": "stderr",
     "output_type": "stream",
     "text": [
      "\u001b[33m   INFO:2020-06-12 11:23:26:datasets:173\u001b[0m Cached ~2.9 Mb (3763 entries, 5 branches)\n"
     ]
    },
    {
     "name": "stdout",
     "output_type": "stream",
     "text": [
      "\n"
     ]
    }
   ],
   "source": [
    "signal = datasets.Dataset(\n",
    "    'mZ300',\n",
    "    seutils.ls_root('root://cmseos.fnal.gov//store/user/klijnsma/semivis/treemaker_sig_Jun02'),\n",
    "    is_signal = True,\n",
    "    bkgname = 'mz300'\n",
    "    )\n",
    "signal.xs = 640. * 0.00075 * 5 # numbers from Sara\n",
    "signal.cache_branches(\n",
    "    branches = [b'JetsAK15', b'JetsAK15_softDropMass', b'TriggerPass', b'MET', b'METPhi'],\n",
    "    n_files = 5\n",
    "    )"
   ]
  },
  {
   "cell_type": "markdown",
   "metadata": {},
   "source": [
    "## Basic softdrop mass, no cuts\n",
    "\n",
    "Let's make a basic histogram of the softdrop mass of AK15 jets for signal and background"
   ]
  },
  {
   "cell_type": "code",
   "execution_count": 23,
   "metadata": {},
   "outputs": [
    {
     "name": "stderr",
     "output_type": "stream",
     "text": [
      "\u001b[33mWARNING:2020-06-10 16:47:22:datasets:275\u001b[0m Using cached data (limited)\n",
      "\u001b[33mWARNING:2020-06-10 16:47:22:datasets:291\u001b[0m Using cached data (limited)\n"
     ]
    }
   ],
   "source": [
    "hist_msd_split = hist.Hist(\n",
    "    'Count',\n",
    "    hist.Cat('dataset', 'Dataset'),\n",
    "    hist.Bin('msd', r'$m_{SD}$ for AK15', 100, 0., 500.)\n",
    "    )\n",
    "\n",
    "# Fill the bkg\n",
    "for arrays, weight, dataset in datasets.iterate_bkg([ttjets, qcd, wjets, zjets]):\n",
    "    hist_msd_split.fill(\n",
    "        dataset = 'total_bkg',\n",
    "        msd = arrays[b'JetsAK15_softDropMass'].flatten(),\n",
    "        weight = weight\n",
    "        )\n",
    "    hist_msd_split.fill(\n",
    "        dataset =  dataset.bkgname,\n",
    "        msd = arrays[b'JetsAK15_softDropMass'].flatten(),\n",
    "        weight = weight\n",
    "        )\n",
    "    \n",
    "# Fill the signal\n",
    "for arrays, weight, dataset in datasets.iterate_sig([signal]):\n",
    "    hist_msd_split.fill(\n",
    "        dataset = dataset.name,\n",
    "        msd = arrays[b'JetsAK15_softDropMass'].flatten(),\n",
    "        weight = weight\n",
    "        )"
   ]
  },
  {
   "cell_type": "code",
   "execution_count": 26,
   "metadata": {},
   "outputs": [],
   "source": [
    "def plot_msd_basic(hist_msd, ymin=0.1):\n",
    "    fig = plt.figure(figsize=(6,6))\n",
    "    ax = fig.gca()\n",
    "    hist.plot1d(hist_msd, ax=ax)\n",
    "    ax.set_ylim(ymin)\n",
    "    ax.set_yscale('log')\n",
    "    ax.set_ylabel('Cross section')"
   ]
  },
  {
   "cell_type": "code",
   "execution_count": 27,
   "metadata": {},
   "outputs": [
    {
     "name": "stderr",
     "output_type": "stream",
     "text": [
      "/uscms_data/d3/klijnsma/miniconda3/envs/condaroot/lib/python3.6/site-packages/mplhep/_deprecate.py:56: DeprecationWarning: kwarg \"densitymode\" in function \"histplot\" is deprecated and may be removed in future versions: \"unit\"mode is not useful\n",
      "  return func(*args, **kwargs)\n"
     ]
    },
    {
     "data": {
      "image/png": "[encoded data removed]",
      "text/plain": [
       "<Figure size 432x432 with 1 Axes>"
      ]
     },
     "metadata": {
      "needs_background": "light"
     },
     "output_type": "display_data"
    }
   ],
   "source": [
    "plot_msd_basic(hist_msd_split)"
   ]
  },
  {
   "cell_type": "markdown",
   "metadata": {},
   "source": [
    "# Applying triggers and preselection"
   ]
  },
  {
   "cell_type": "code",
   "execution_count": 28,
   "metadata": {},
   "outputs": [],
   "source": [
    "trigger_titles = datasets.get_trigger_titles()"
   ]
  },
  {
   "cell_type": "code",
   "execution_count": 10,
   "metadata": {},
   "outputs": [],
   "source": [
    "def apply_trigger(arrays, triggers):\n",
    "    \"\"\"\n",
    "    Given a structure `arrays` as given by uproot, applies triggers and returns a filtered arrays.\n",
    "    The branch b'TriggerPass' must be in arrays\n",
    "    \"\"\"\n",
    "    # Indices of the triggers we want to apply\n",
    "    trigger_indices = np.array([ trigger_titles.index(trigger) for trigger in triggers ])\n",
    "    trigger_decisions = arrays[b'TriggerPass']\n",
    "    # Check, per event, if any of the triggers we want equals 1\n",
    "    passes = (trigger_decisions[:,trigger_indices] == 1).any(axis=1)\n",
    "    n_total = trigger_decisions.shape[0]\n",
    "    n_pass = passes.nonzero()[0].shape[0]\n",
    "    return { k : v[passes] for k, v in arrays.items() }, n_pass, n_total"
   ]
  },
  {
   "cell_type": "code",
   "execution_count": 42,
   "metadata": {},
   "outputs": [],
   "source": [
    "def filter_zerojet_events(arrays):\n",
    "    passes = (arrays[b'JetsAK15'].counts >= 1)\n",
    "    return { k : v[passes] for k, v in arrays.items() }\n",
    "    \n",
    "def get_leading_jet(arrays):\n",
    "    jets = arrays[b'JetsAK15']\n",
    "    leading_jet = jets[jets.pt.argmax()]\n",
    "    assert jets.shape[0] == leading_jet.shape[0]\n",
    "    return leading_jet\n",
    "\n",
    "def get_leading_jet_branch(arrays):\n",
    "    arrays[b'JetsAK15_leading'] = get_leading_jet(arrays)"
   ]
  },
  {
   "cell_type": "code",
   "execution_count": 64,
   "metadata": {},
   "outputs": [],
   "source": [
    "def calculate_mt(arrays, jets_branch=b'JetsAK15_leading'):\n",
    "    metx = np.cos(arrays[b'METPhi']) * arrays[b'MET']\n",
    "    mety = np.sin(arrays[b'METPhi']) * arrays[b'MET']\n",
    "    mete = np.sqrt(metx**2 + mety**2)\n",
    "    \n",
    "    jets = arrays[jets_branch]\n",
    "    jetsx = np.cos(jets.phi) * jets.pt\n",
    "    jetsy = np.sin(jets.phi) * jets.pt\n",
    "    jetse = np.sqrt(jets.mass**2 + jets.pt**2)\n",
    "    \n",
    "    mt = np.sqrt( (jetse + mete)**2 + (jetsx + metx)**2 + (jetsy + mety)**2 )\n",
    "    return mt\n",
    "\n",
    "def update_arrays_mtleadingjet(arrays):\n",
    "    arrays[b'JetsAK15_leading'] = get_leading_jet(arrays)\n",
    "    arrays[b'JetsAK15_MT'] = calculate_mt(arrays)\n",
    "    arrays[b'JetsAK15_RT'] = arrays[b'MET'] / arrays[b'JetsAK15_MT']"
   ]
  },
  {
   "cell_type": "code",
   "execution_count": 13,
   "metadata": {},
   "outputs": [],
   "source": [
    "def apply_preselection(arrays):    \n",
    "    # Build the preselection\n",
    "    preselection = (arrays[b'JetsAK15_RT'] > 0.15) & (arrays[b'JetsAK15_MT'] > 500.)\n",
    "    preselection = preselection.flatten() # Make sure it's at event level, not leading-jet level\n",
    "    arrays_postpreselection = { k : v[preselection] for k, v in arrays.items() }\n",
    "    n_pass = arrays_postpreselection[b'JetsAK15_MT'].shape[0]\n",
    "    return arrays_postpreselection, n_pass"
   ]
  },
  {
   "cell_type": "markdown",
   "metadata": {},
   "source": [
    "Now here actually applying the triggers and preselection, and saving filtered events in histograms"
   ]
  },
  {
   "cell_type": "code",
   "execution_count": 48,
   "metadata": {},
   "outputs": [
    {
     "name": "stdout",
     "output_type": "stream",
     "text": [
      "Using cached data (limited)\n",
      "Using cached data (limited)\n"
     ]
    }
   ],
   "source": [
    "triggers = [ 'HLT_AK8PFJet450_v', 'HLT_PFHT800_v' ]\n",
    "\n",
    "hist_msd_raw = hist.Hist(\n",
    "    'Count',\n",
    "    hist.Cat('dataset', 'Dataset'),\n",
    "    hist.Bin('msd', r'$m_{SD}$ for AK15', 50, 0., 500.)\n",
    "    )\n",
    "hist_msd_posttrigger = hist.Hist(\n",
    "    'Count',\n",
    "    hist.Cat('dataset', 'Dataset'),\n",
    "    hist.Bin('msd', r'$m_{SD}$ for AK15', 50, 0., 500.)\n",
    "    )\n",
    "hist_msd_postpreselection = hist.Hist(\n",
    "    'Count',\n",
    "    hist.Cat('dataset', 'Dataset'),\n",
    "    hist.Bin('msd', r'$m_{SD}$ for AK15', 50, 0., 500.)\n",
    "    )\n",
    "hist_mt_raw = hist.Hist(\n",
    "    'Count',\n",
    "    hist.Cat('dataset', 'Dataset'),\n",
    "    hist.Bin('mt', r'$m_{T}$ for AK15 with MET', 50, 0., 2500.)\n",
    "    )\n",
    "hist_mt_posttrigger = hist.Hist(\n",
    "    'Count',\n",
    "    hist.Cat('dataset', 'Dataset'),\n",
    "    hist.Bin('mt', r'$m_{T}$ for AK15 with MET', 50, 0., 2500.)\n",
    "    )\n",
    "hist_mt_postpreselection = hist.Hist(\n",
    "    'Count',\n",
    "    hist.Cat('dataset', 'Dataset'),\n",
    "    hist.Bin('mt', r'$m_{T}$ for AK15 with MET', 50, 0., 2500.)\n",
    "    )\n",
    "\n",
    "# Keep track of trigger efficiency\n",
    "n_pass_trigger = { key : 0 for key in ['ttjets', 'qcd', 'wjets', 'zjets', 'signal']}\n",
    "n_pass_preselection = { key : 0 for key in ['ttjets', 'qcd', 'wjets', 'zjets', 'signal']}\n",
    "n_total = { key : 0 for key in ['ttjets', 'qcd', 'wjets', 'zjets', 'signal']}\n",
    "\n",
    "\n",
    "def fill_hists(iterator, is_bkg=True):\n",
    "    for arrays, weight, dataset, bkgname in iterator:\n",
    "        arrays = filter_zerojet_events(arrays)\n",
    "        # Calculate the MT and RT\n",
    "        arrays[b'JetsAK15_leading'] = get_leading_jet(arrays)\n",
    "        arrays[b'JetsAK15_MT'] = calculate_mt(arrays)\n",
    "        arrays[b'JetsAK15_RT'] = arrays[b'MET'] / arrays[b'JetsAK15_MT']\n",
    "        \n",
    "        # Label for the histogram\n",
    "        name = bkgname if is_bkg else dataset.name\n",
    "\n",
    "        # Fill the histogram before trigger\n",
    "        hist_msd_raw.fill(dataset=name, msd=arrays[b'JetsAK15_softDropMass'].flatten(), weight=weight)\n",
    "        hist_mt_raw.fill(dataset=name, mt=arrays[b'JetsAK15_MT'].flatten(), weight=weight)\n",
    "        if is_bkg:\n",
    "            hist_msd_raw.fill(dataset='total_bkg', msd=arrays[b'JetsAK15_softDropMass'].flatten(), weight=weight)\n",
    "            hist_mt_raw.fill(dataset='total_bkg', mt=arrays[b'JetsAK15_MT'].flatten(), weight=weight)\n",
    "\n",
    "        #__________________________\n",
    "        # Trigger\n",
    "        \n",
    "        arrays_posttrigger, this_n_pass, this_n_total = apply_trigger(arrays, triggers)\n",
    "        n_pass_trigger[name] += this_n_pass\n",
    "        n_total[name] += this_n_total\n",
    "\n",
    "        hist_msd_posttrigger.fill(dataset=name, msd=arrays_posttrigger[b'JetsAK15_softDropMass'].flatten(), weight=weight)\n",
    "        hist_mt_posttrigger.fill(dataset=name, mt=arrays_posttrigger[b'JetsAK15_MT'].flatten(), weight=weight)\n",
    "        if is_bkg:\n",
    "            hist_msd_posttrigger.fill(dataset='total_bkg', msd=arrays_posttrigger[b'JetsAK15_softDropMass'].flatten(), weight=weight)\n",
    "            hist_mt_posttrigger.fill(dataset='total_bkg', mt=arrays_posttrigger[b'JetsAK15_MT'].flatten(), weight=weight)\n",
    "\n",
    "        #__________________________\n",
    "        # Preselection\n",
    "\n",
    "        arrays_postpreselection, this_n_pass = apply_preselection(arrays_posttrigger)\n",
    "        n_pass_preselection[name] += this_n_pass\n",
    "\n",
    "        hist_msd_postpreselection.fill(dataset=name, msd=arrays_postpreselection[b'JetsAK15_softDropMass'].flatten(), weight=weight)\n",
    "        hist_mt_postpreselection.fill(dataset=name, mt=arrays_postpreselection[b'JetsAK15_MT'].flatten(), weight=weight)\n",
    "        if is_bkg:\n",
    "            hist_msd_postpreselection.fill(dataset='total_bkg', msd=arrays_postpreselection[b'JetsAK15_softDropMass'].flatten(), weight=weight)\n",
    "            hist_mt_postpreselection.fill(dataset='total_bkg', mt=arrays_postpreselection[b'JetsAK15_MT'].flatten(), weight=weight)\n",
    "    \n",
    "fill_hists(iterate_bkg())\n",
    "fill_hists(iterate_sig(is_bkg=False))"
   ]
  },
  {
   "cell_type": "code",
   "execution_count": 44,
   "metadata": {},
   "outputs": [
    {
     "name": "stdout",
     "output_type": "stream",
     "text": [
      "Trigger eff:\n",
      "Efficiency for ttjets: 0.753  (60988/81002)\n",
      "Efficiency for qcd   : 0.631  (297439/471743)\n",
      "Efficiency for wjets : 0.495  (101353/204758)\n",
      "Efficiency for zjets : 0.294  (102348/347676)\n",
      "Efficiency for signal: 0.675  (2541/3762)\n"
     ]
    }
   ],
   "source": [
    "print('Trigger eff:')\n",
    "for key in n_pass_trigger.keys():\n",
    "    eff = float(n_pass_trigger[key]) / n_total[key]\n",
    "    print(\n",
    "        'Efficiency for {0:6}: {1:.3f}  ({2}/{3})'\n",
    "        .format(key, eff, n_pass_trigger[key], n_total[key])\n",
    "        )"
   ]
  },
  {
   "cell_type": "code",
   "execution_count": 45,
   "metadata": {},
   "outputs": [
    {
     "name": "stdout",
     "output_type": "stream",
     "text": [
      "Preselection + trigger eff:\n",
      "Efficiency for ttjets: 0.107  (8634/81002)\n",
      "Efficiency for qcd   : 0.015  (7077/471743)\n",
      "Efficiency for wjets : 0.111  (22735/204758)\n",
      "Efficiency for zjets : 0.154  (53701/347676)\n",
      "Efficiency for signal: 0.297  (1116/3762)\n"
     ]
    }
   ],
   "source": [
    "print('Preselection + trigger eff:')\n",
    "for key in n_pass_preselection.keys():\n",
    "    eff = float(n_pass_preselection[key]) / n_total[key]\n",
    "    print(\n",
    "        'Efficiency for {0:6}: {1:.3f}  ({2}/{3})'\n",
    "        .format(key, eff, n_pass_preselection[key], n_total[key])\n",
    "        )"
   ]
  },
  {
   "cell_type": "code",
   "execution_count": 51,
   "metadata": {
    "scrolled": false
   },
   "outputs": [
    {
     "name": "stderr",
     "output_type": "stream",
     "text": [
      "/uscms_data/d3/klijnsma/miniconda3/envs/condaroot/lib/python3.6/site-packages/mplhep/_deprecate.py:56: DeprecationWarning: kwarg \"densitymode\" in function \"histplot\" is deprecated and may be removed in future versions: \"unit\"mode is not useful\n",
      "  return func(*args, **kwargs)\n",
      "/uscms_data/d3/klijnsma/miniconda3/envs/condaroot/lib/python3.6/site-packages/mplhep/_deprecate.py:56: DeprecationWarning: kwarg \"densitymode\" in function \"histplot\" is deprecated and may be removed in future versions: \"unit\"mode is not useful\n",
      "  return func(*args, **kwargs)\n",
      "/uscms_data/d3/klijnsma/miniconda3/envs/condaroot/lib/python3.6/site-packages/mplhep/_deprecate.py:56: DeprecationWarning: kwarg \"densitymode\" in function \"histplot\" is deprecated and may be removed in future versions: \"unit\"mode is not useful\n",
      "  return func(*args, **kwargs)\n"
     ]
    },
    {
     "data": {
      "image/png": "[encoded data removed]",
      "text/plain": [
       "<Figure size 1512x504 with 3 Axes>"
      ]
     },
     "metadata": {
      "needs_background": "light"
     },
     "output_type": "display_data"
    }
   ],
   "source": [
    "def plot_msd_posttrigger():\n",
    "    ymin = 0.001\n",
    "    fig, axs = plt.subplots(ncols=3, nrows=1, figsize=(21,7))\n",
    "    ax = axs[0]\n",
    "    hist.plot1d(hist_msd_raw, ax=ax)\n",
    "    ax.set_ylim(ymin)\n",
    "    ax.set_yscale('log')\n",
    "    ax.set_ylabel('Cross section')\n",
    "    ax.set_title('Before trigger')\n",
    "    ax = axs[1]\n",
    "    hist.plot1d(hist_msd_posttrigger, ax=ax)\n",
    "    ax.set_ylim(ymin)\n",
    "    ax.set_yscale('log')\n",
    "    ax.set_ylabel('Cross section')\n",
    "    ax.set_title('Triggers: {0}'.format(', '.join(triggers)))\n",
    "    ax = axs[2]\n",
    "    hist.plot1d(hist_msd_postpreselection, ax=ax)\n",
    "    ax.set_ylim(ymin)\n",
    "    ax.set_yscale('log')\n",
    "    ax.set_ylabel('Cross section')\n",
    "    ax.set_title('After preselection')\n",
    "plot_msd_posttrigger()"
   ]
  },
  {
   "cell_type": "code",
   "execution_count": 50,
   "metadata": {},
   "outputs": [
    {
     "name": "stderr",
     "output_type": "stream",
     "text": [
      "/uscms_data/d3/klijnsma/miniconda3/envs/condaroot/lib/python3.6/site-packages/mplhep/_deprecate.py:56: DeprecationWarning: kwarg \"densitymode\" in function \"histplot\" is deprecated and may be removed in future versions: \"unit\"mode is not useful\n",
      "  return func(*args, **kwargs)\n",
      "/uscms_data/d3/klijnsma/miniconda3/envs/condaroot/lib/python3.6/site-packages/mplhep/_deprecate.py:56: DeprecationWarning: kwarg \"densitymode\" in function \"histplot\" is deprecated and may be removed in future versions: \"unit\"mode is not useful\n",
      "  return func(*args, **kwargs)\n",
      "/uscms_data/d3/klijnsma/miniconda3/envs/condaroot/lib/python3.6/site-packages/mplhep/_deprecate.py:56: DeprecationWarning: kwarg \"densitymode\" in function \"histplot\" is deprecated and may be removed in future versions: \"unit\"mode is not useful\n",
      "  return func(*args, **kwargs)\n"
     ]
    },
    {
     "data": {
      "image/png": "[encoded data removed]",
      "text/plain": [
       "<Figure size 1512x504 with 3 Axes>"
      ]
     },
     "metadata": {
      "needs_background": "light"
     },
     "output_type": "display_data"
    }
   ],
   "source": [
    "def plot_mt_posttrigger():\n",
    "    ymin = 0.001\n",
    "    fig, axs = plt.subplots(ncols=3, nrows=1, figsize=(21,7))\n",
    "    ax = axs[0]\n",
    "    hist.plot1d(hist_mt_raw, ax=ax)\n",
    "    ax.set_ylim(ymin)\n",
    "    ax.set_yscale('log')\n",
    "    ax.set_ylabel('Cross section')\n",
    "    ax.set_title('Before trigger')\n",
    "    ax = axs[1]\n",
    "    hist.plot1d(hist_mt_posttrigger, ax=ax)\n",
    "    ax.set_ylim(ymin)\n",
    "    ax.set_yscale('log')\n",
    "    ax.set_ylabel('Cross section')\n",
    "    ax.set_title('Triggers: {0}'.format(', '.join(triggers)))\n",
    "    ax = axs[2]\n",
    "    hist.plot1d(hist_mt_postpreselection, ax=ax)\n",
    "    ax.set_ylim(ymin)\n",
    "    ax.set_yscale('log')\n",
    "    ax.set_ylabel('Cross section')\n",
    "    ax.set_title('After preselection')\n",
    "plot_mt_posttrigger()"
   ]
  },
  {
   "cell_type": "markdown",
   "metadata": {},
   "source": [
    "# Making a ROC curve"
   ]
  },
  {
   "cell_type": "code",
   "execution_count": 93,
   "metadata": {},
   "outputs": [],
   "source": [
    "def get_eff(arrays_iterator, cut_function, cut_values):\n",
    "    n_cuts = len(cut_values)\n",
    "    n_total = np.zeros(n_cuts)\n",
    "    n_pass = np.zeros(n_cuts)\n",
    "    for arrays, weight, dataset in arrays_iterator:\n",
    "        for i_cut, cut in enumerate(cut_values):\n",
    "            this_n_pass, this_n_total = cut_function(arrays, cut)\n",
    "            n_total[i_cut] += weight * this_n_total\n",
    "            n_pass[i_cut] += weight * this_n_pass\n",
    "    eff = np.divide(n_pass, n_total, out=np.zeros_like(n_pass), where=n_total!=0)\n",
    "    return eff, n_pass, n_total\n",
    "    \n",
    "def roc_curve(sig_iterator, bkg_iterator, cut_function, cut_values, title=None):\n",
    "    eff_sig, n_pass_sig, n_total_sig = get_eff(sig_iterator, cut_function, cut_values)\n",
    "    eff_bkg, n_pass_bkg, n_total_bkg = get_eff(bkg_iterator, cut_function, cut_values)\n",
    "\n",
    "    fig = plt.figure(figsize=(8,8))\n",
    "    ax = fig.gca()\n",
    "    ax.plot([0.0,1.0], [0.0,1.0], linestyle='--', color='xkcd:orange')\n",
    "    ax.plot(eff_bkg, eff_sig, marker='o')\n",
    "    ax.set_xlim(0.0, 1.05)\n",
    "    ax.set_ylim(0.0, 1.05)\n",
    "    ax.set_ylabel('Signal eff.')\n",
    "    ax.set_xlabel('Bkg eff.')\n",
    "    if title: ax.set_title(title)\n",
    "\n",
    "    ndec = lambda number: 0 if abs(number) >= 100. else ( 1 if abs(number) >= 10. else 2 )\n",
    "    for i in range(len(cut_values)):\n",
    "        ax.text(\n",
    "            eff_bkg[i], eff_sig[i],\n",
    "            '{0:.{ndec}f}'.format(cut_values[i], ndec=ndec(cut_values[i]))\n",
    "            )"
   ]
  },
  {
   "cell_type": "code",
   "execution_count": 100,
   "metadata": {
    "scrolled": false
   },
   "outputs": [
    {
     "name": "stderr",
     "output_type": "stream",
     "text": [
      "\u001b[33mWARNING:2020-06-12 12:35:59:datasets:293\u001b[0m Using cached data (limited)\n",
      "\u001b[33mWARNING:2020-06-12 12:35:59:datasets:276\u001b[0m Using cached data (limited)\n"
     ]
    },
    {
     "data": {
      "image/png": "[encoded data removed]",
      "text/plain": [
       "<Figure size 576x576 with 1 Axes>"
      ]
     },
     "metadata": {
      "needs_background": "light"
     },
     "output_type": "display_data"
    }
   ],
   "source": [
    "def msd_cut_function(arrays, cut):\n",
    "    arrays = filter_zerojet_events(arrays)\n",
    "    n_pass = (arrays[b'JetsAK15_softDropMass'] > cut).any().sum()\n",
    "    n_total = (arrays[b'JetsAK15_softDropMass'] > 0.0).any().sum()\n",
    "    return n_pass, n_total\n",
    "\n",
    "roc_curve(\n",
    "    datasets.iterate_sig([signal]),\n",
    "    datasets.iterate_bkg([ttjets, qcd, wjets, zjets]),\n",
    "    msd_cut_function,\n",
    "    [ 0.0, 10., 30., 50., 70., 100., 150., 200., 500., 1e7 ],\n",
    "    title = 'msd >'\n",
    "    )"
   ]
  },
  {
   "cell_type": "code",
   "execution_count": 103,
   "metadata": {},
   "outputs": [
    {
     "name": "stderr",
     "output_type": "stream",
     "text": [
      "\u001b[33mWARNING:2020-06-12 12:39:13:datasets:293\u001b[0m Using cached data (limited)\n",
      "\u001b[33mWARNING:2020-06-12 12:39:13:datasets:276\u001b[0m Using cached data (limited)\n"
     ]
    },
    {
     "data": {
      "image/png": "[encoded data removed]",
      "text/plain": [
       "<Figure size 576x576 with 1 Axes>"
      ]
     },
     "metadata": {
      "needs_background": "light"
     },
     "output_type": "display_data"
    }
   ],
   "source": [
    "def mt_cut_function(arrays, cut):\n",
    "    arrays = filter_zerojet_events(arrays)\n",
    "    update_arrays_mtleadingjet(arrays)\n",
    "    n_pass = (arrays[b'JetsAK15_MT'] > cut).any().sum()\n",
    "    n_total = (arrays[b'JetsAK15_MT'] > 0.0).any().sum()\n",
    "    return n_pass, n_total\n",
    "\n",
    "roc_curve(\n",
    "    datasets.iterate_sig([signal]),\n",
    "    datasets.iterate_bkg([ttjets, qcd, wjets, zjets]),\n",
    "    mt_cut_function,\n",
    "    [ 0.0, 400., 500., 750., 1000., 2000., 3000., 1e7 ],\n",
    "    title = 'mt >'\n",
    "    )"
   ]
  },
  {
   "cell_type": "code",
   "execution_count": 95,
   "metadata": {},
   "outputs": [
    {
     "name": "stderr",
     "output_type": "stream",
     "text": [
      "\u001b[33mWARNING:2020-06-12 12:09:04:datasets:293\u001b[0m Using cached data (limited)\n",
      "\u001b[33mWARNING:2020-06-12 12:09:05:datasets:276\u001b[0m Using cached data (limited)\n"
     ]
    },
    {
     "data": {
      "image/png": "[encoded data removed]",
      "text/plain": [
       "<Figure size 576x576 with 1 Axes>"
      ]
     },
     "metadata": {
      "needs_background": "light"
     },
     "output_type": "display_data"
    }
   ],
   "source": [
    "def rt_cut_function(arrays, cut):\n",
    "    arrays = filter_zerojet_events(arrays)\n",
    "    update_arrays_mtleadingjet(arrays)\n",
    "    selection = arrays[b'JetsAK15_RT'] > cut\n",
    "    n_total = arrays[b'JetsAK15'].shape[0]\n",
    "    n_pass = selection.any().sum()\n",
    "    return n_pass, n_total\n",
    "\n",
    "roc_curve(\n",
    "    datasets.iterate_sig([signal]),\n",
    "    datasets.iterate_bkg([ttjets, qcd, wjets, zjets]),\n",
    "    rt_cut_function,\n",
    "    [ 0.0, 0.05, 0.10, 0.15, 0.20, 0.25, 0.30, 0.50, 2.0],\n",
    "    title = 'rt > '\n",
    "    )"
   ]
  },
  {
   "cell_type": "code",
   "execution_count": null,
   "metadata": {},
   "outputs": [],
   "source": [
    "def rt_cut_function(arrays, cut):\n",
    "    arrays = filter_zerojet_events(arrays)\n",
    "    update_arrays_mtleadingjet(arrays)\n",
    "    selection = arrays[b'JetsAK15_RT'] > cut\n",
    "    n_total = arrays[b'JetsAK15'].shape[0]\n",
    "    n_pass = selection.any().sum()\n",
    "    return n_pass, n_total\n",
    "\n",
    "roc_curve(\n",
    "    datasets.iterate_sig([signal]),\n",
    "    datasets.iterate_bkg([ttjets, qcd, wjets, zjets]),\n",
    "    rt_cut_function,\n",
    "    [ 0.0, 0.05, 0.10, 0.15, 0.20, 0.25, 0.30, 0.50, 2.0],\n",
    "    title = 'rt > '\n",
    "    )"
   ]
  },
  {
   "cell_type": "code",
   "execution_count": 98,
   "metadata": {},
   "outputs": [
    {
     "name": "stderr",
     "output_type": "stream",
     "text": [
      "\u001b[33mWARNING:2020-06-12 12:33:16:datasets:293\u001b[0m Using cached data (limited)\n",
      "\u001b[33mWARNING:2020-06-12 12:33:16:datasets:276\u001b[0m Using cached data (limited)\n"
     ]
    },
    {
     "data": {
      "image/png": "[encoded data removed]",
      "text/plain": [
       "<Figure size 576x576 with 1 Axes>"
      ]
     },
     "metadata": {
      "needs_background": "light"
     },
     "output_type": "display_data"
    }
   ],
   "source": [
    "def get_deltaeta(arrays):\n",
    "    jets = arrays[b'JetsAK15']\n",
    "    # Only events with at least two jets\n",
    "    jets = jets[jets.counts >= 2]\n",
    "    # Throw away jets other than the first 2\n",
    "    leading = jets[:,0]\n",
    "    subleading = jets[:,1]\n",
    "    delta_eta = np.abs(leading.eta - subleading.eta)\n",
    "    return delta_eta\n",
    "\n",
    "def deltaeta_cut_function(arrays, cut):\n",
    "    n_total = (arrays[b'JetsAK15'].counts >= 2).sum()\n",
    "    delta_eta = get_deltaeta(arrays)\n",
    "    selection = delta_eta < cut\n",
    "    n_pass = selection.sum()\n",
    "    return n_pass, n_total\n",
    "\n",
    "roc_curve(\n",
    "    datasets.iterate_sig([signal]),\n",
    "    datasets.iterate_bkg([ttjets, qcd, wjets, zjets]),\n",
    "    deltaeta_cut_function,\n",
    "    [ 0.0, 0.15, 0.30, 0.50, 1.0, 1.5, 2.0, 3.0, 10.],\n",
    "    title = 'delta eta < '\n",
    "    )"
   ]
  },
  {
   "cell_type": "code",
   "execution_count": 107,
   "metadata": {},
   "outputs": [
    {
     "name": "stderr",
     "output_type": "stream",
     "text": [
      "\u001b[33mWARNING:2020-06-12 13:33:30:datasets:293\u001b[0m Using cached data (limited)\n",
      "\u001b[33mWARNING:2020-06-12 13:33:30:datasets:276\u001b[0m Using cached data (limited)\n"
     ]
    },
    {
     "data": {
      "image/png": "[encoded data removed]",
      "text/plain": [
       "<Figure size 576x576 with 1 Axes>"
      ]
     },
     "metadata": {
      "needs_background": "light"
     },
     "output_type": "display_data"
    }
   ],
   "source": [
    "def get_dphimet(arrays):\n",
    "    phi_jet = arrays[b'JetsAK15'].phi\n",
    "    phi_met = arrays[b'METPhi']\n",
    "    dphi = np.abs(phi_jet - phi_met)\n",
    "    return dphi\n",
    "\n",
    "def dphimet_cut_function(arrays, cut):\n",
    "    # Only events with at least one jet\n",
    "    arrays = filter_zerojet_events(arrays)\n",
    "    n_total = arrays[b'JetsAK15'].shape[0]\n",
    "    dphi = get_dphimet(arrays)    \n",
    "    selection = (dphi < cut).any()\n",
    "    n_pass = selection.sum()\n",
    "    return n_pass, n_total\n",
    "\n",
    "roc_curve(\n",
    "    datasets.iterate_sig([signal]),\n",
    "    datasets.iterate_bkg([ttjets, qcd, wjets, zjets]),\n",
    "    dphimet_cut_function,\n",
    "    [ 0.0, 0.5, 0.8, 1.0, 1.5, 2.5, 100.],\n",
    "    title = 'at least one jet with delta phi w/ met < '\n",
    "    )"
   ]
  },
  {
   "cell_type": "code",
   "execution_count": null,
   "metadata": {},
   "outputs": [],
   "source": []
  },
  {
   "cell_type": "code",
   "execution_count": null,
   "metadata": {},
   "outputs": [],
   "source": []
  }
 ],
 "metadata": {
  "kernelspec": {
   "display_name": "Python 3",
   "language": "python",
   "name": "python3"
  },
  "language_info": {
   "codemirror_mode": {
    "name": "ipython",
    "version": 3
   },
   "file_extension": ".py",
   "mimetype": "text/x-python",
   "name": "python",
   "nbconvert_exporter": "python",
   "pygments_lexer": "ipython3",
   "version": "3.6.10"
  }
 },
 "nbformat": 4,
 "nbformat_minor": 4
}
